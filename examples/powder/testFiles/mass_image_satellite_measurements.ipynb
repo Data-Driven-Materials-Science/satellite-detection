{
 "cells": [
  {
   "cell_type": "markdown",
   "metadata": {},
   "source": [
    "Copyright (c) 2020 Ryan Cohn and Elizabeth Holm. All rights reserved. <br />\n",
    "Licensed under the MIT License (see LICENSE for details) <br />\n",
    "Written by Ryan Cohn"
   ]
  },
  {
   "cell_type": "markdown",
   "metadata": {},
   "source": [
    "# Instance segmentation performance evaluation and sample characterization\n",
    "\n",
    "In this example we will do the following:\n",
    "\n",
    "  * Evaluate how well the predicted masks agree with the hand-drawn annotations\n",
    "  * Perform basic sample measurements (ie particle size)\n",
    "  * Match satellites to particles to measure the satellite content of samples\n",
    " \n",
    " \n",
    "## Note: \n",
    "We lump the predictions on training images with the validation images. This is because our available data so far is very limited, so we just \n",
    "want to show the process for analyzing the results. The process is exactly the same for analyzing larger quantities of data, so after generating predictions\n",
    "you can replace the filepath with more validation or even unlabeled images to get a better representation of the performance of the model."
   ]
  },
  {
   "cell_type": "code",
   "execution_count": 1,
   "metadata": {},
   "outputs": [],
   "source": [
    "import json\n",
    "import matplotlib.pyplot as plt\n",
    "import numpy as np\n",
    "import os\n",
    "from pathlib import Path\n",
    "import pandas as pd\n",
    "import pickle\n",
    "import pycocotools.mask as RLE\n",
    "import seaborn as sns\n",
    "import skimage\n",
    "import skimage.io\n",
    "from IPython.display import display\n",
    "from math import pi\n",
    "\n",
    "ampis_root = str(Path('..','..','..'))\n",
    "import sys\n",
    "if ampis_root not in sys.path:\n",
    "    sys.path.append(ampis_root)\n",
    "\n",
    "from ampis import analyze, data_utils, powder_char\n",
    "from ampis.applications import powder\n",
    "from ampis.structures import InstanceSet\n",
    "from ampis.visualize import display_iset\n",
    "from ampis import export_anno\n",
    "from imantics import Polygons, Mask\n",
    "#import warnings\n",
    "#warnings.filterwarnings('error')\n",
    "\n",
    "%matplotlib inline"
   ]
  },
  {
   "cell_type": "markdown",
   "metadata": {},
   "source": [
    "# Loading Data\n",
    "For evaluating the segmentation performance, we need to load back the original ground truth labels."
   ]
  },
  {
   "cell_type": "markdown",
   "metadata": {},
   "source": [
    "You can use your own predictions generated from before by replacing the paths, but as an example I am including mine from the fully trained model."
   ]
  },
  {
   "cell_type": "code",
   "execution_count": 2,
   "metadata": {},
   "outputs": [],
   "source": [
    "## load predicted labels\n",
    "\n",
    "particles_path = Path('..','data','mass_particle_metrics.pickle')\n",
    "assert particles_path.is_file()\n",
    "\n",
    "satellites_path = Path('..','data','mass_satellite_metrics.pickle')\n",
    "assert satellites_path.is_file()\n",
    "\n",
    "with open(particles_path, 'rb') as f:\n",
    "    particle_pred = pickle.load(f)\n",
    "\n",
    "with open(satellites_path, 'rb') as f:\n",
    "    satellites_pred = pickle.load(f)\n",
    "#print(satellites_pred)\n",
    "#x = powder_char.clean_pred_pickle_masks(satellites_pred)   "
   ]
  },
  {
   "cell_type": "markdown",
   "metadata": {},
   "source": [
    "### Currently not being used because of a problem with local/global variables and Instance Objects"
   ]
  },
  {
   "cell_type": "code",
   "execution_count": 3,
   "metadata": {
    "scrolled": true
   },
   "outputs": [],
   "source": [
    "def clean_pred_instance(pred, instance_num):\n",
    "    data_instance = pred\n",
    "    removed_index_list = []\n",
    "    for i in range(len(data_instance['instances'].pred_masks)):\n",
    "        #intermediary step to convert each RLE instance to a binary mask\n",
    "        m1 = RLE.decode(data_instance['instances'].pred_masks[i])[:, :]\n",
    "        m2 = Mask(m1).polygons().points\n",
    "        try:\n",
    "            num_points = len(export_anno.split_array(m2[0])[0])\n",
    "        except:\n",
    "            print(\"Error: No points found, deleting annotation\")\n",
    "            num_points = 0\n",
    "        if num_points < 4:\n",
    "            removed_index_list.append(i)\n",
    "    if len(removed_index_list) < 1:\n",
    "        print('No Removals Required for instance', instance_num)\n",
    "    else:\n",
    "        print(\"Had to remove\", len(removed_index_list), 'predicitons from the predicted detections on instance', instance_num)\n",
    "    for i in range(len(removed_index_list)):\n",
    "        data_instance['instances'].pred_masks.pop(removed_index_list[i]-i)\n",
    "        np.delete(data_instance['instances'].pred_boxes, removed_index_list[i]-i)\n",
    "        data_instance['instances'].num_instances -= 1\n",
    "    return data_instance\n",
    "\n",
    "        \n",
    "def clean_pred_pickle_masks(pred):\n",
    "    temp_pred = pred\n",
    "    #for i in range(len(pred)):\n",
    "    for i in range(10):\n",
    "        temp_pred[i]['pred'] = clean_pred_instance(pred[i]['pred'], i)\n",
    "    return temp_pred\n",
    "#print(satellites_pred)\n",
    "#satellites_pred = clean_pred_pickle_masks(satellites_pred)\n",
    "#particle_pred = clean_pred_pickle_masks(particle_pred)"
   ]
  },
  {
   "cell_type": "markdown",
   "metadata": {},
   "source": [
    "## Load data to InstanceSet objects\n",
    "To standardize the format of the ground truth and predicted instances, and for convenient analysis, everything is loaded into an InstanceSet class object."
   ]
  },
  {
   "cell_type": "code",
   "execution_count": 4,
   "metadata": {},
   "outputs": [],
   "source": [
    "# Predicted instance sets\n",
    "iset_particles_pred = [InstanceSet().read_from_model_out(x, inplace=False) for x in particle_pred]\n",
    "iset_satellites_pred = [InstanceSet().read_from_model_out(x, inplace=False) for x in satellites_pred]"
   ]
  },
  {
   "cell_type": "markdown",
   "metadata": {},
   "source": [
    "# Powder Characterization- Size Distribution\n",
    "\n",
    "Once we have the masks it is pretty trivial to compute various properties. With binary masks we can use [skimage regionprops] (https://scikit-image.org/docs/dev/api/skimage.measure.html#skimage.measure.regionprops), which provides many convenient measurements out of the box. If there are any additional measurements you need, you can also access the masks directly and define your own methods. "
   ]
  },
  {
   "cell_type": "code",
   "execution_count": 5,
   "metadata": {},
   "outputs": [],
   "source": [
    "k = ['area', 'equivalent_diameter', 'major_axis_length', 'minor_axis_length', 'perimeter', 'eccentricity']\n",
    "for iset in iset_satellites_pred:\n",
    "    if iset.rprops is None:\n",
    "        iset.compute_rprops(keys=k)\n",
    "for iset in iset_particles_pred:\n",
    "    if iset.rprops is None:\n",
    "        iset.compute_rprops(keys=k)"
   ]
  },
  {
   "cell_type": "markdown",
   "metadata": {},
   "source": [
    "## Powder Characterization Dataframes\n",
    "If you wish to see the dataframes for all the images loaded in, uncomment the lines below"
   ]
  },
  {
   "cell_type": "code",
   "execution_count": 27,
   "metadata": {
    "scrolled": true
   },
   "outputs": [],
   "source": [
    "#for i in range(len(iset_satellites_pred)):\n",
    "#    display(iset_satellites_pred[i].rprops)"
   ]
  },
  {
   "cell_type": "markdown",
   "metadata": {},
   "source": [
    "Note that the measurements are in terms of pixels. If the conversion for pixels to microns is known, then we can generate equivalent measurements."
   ]
  },
  {
   "cell_type": "markdown",
   "metadata": {},
   "source": [
    "# Satellite content measurements\n",
    "The process here is fairly straightforward. We have masks for powder particles and masks for satellites. To match the satellites to their corresponding particles, we simply overlay the masks and look for intersections. Then, it is trivial to count the number of particles containing satellites. \n",
    "\n"
   ]
  },
  {
   "cell_type": "markdown",
   "metadata": {},
   "source": [
    "We have more labeled satellite images than particle images. We only want to keep images that have labels for both particles and satellites.\n",
    "To help with the implementation, we can combine the masks for particles and satellites in the PowderSatelliteImage class"
   ]
  },
  {
   "cell_type": "markdown",
   "metadata": {},
   "source": [
    "### Warning:\n",
    "You may encounter \"RuntimeWarning: invalid value encountered in true_divide\n",
    "  intersects = RLE.area([RLE.merge([satellite_mask, pmask], intersect=True) for pmask in particles])\"\n",
    " This is ok. It is become some of the annotations have only 2 points and the area cannot be computed. The code should ignore these and continue on with the rest"
   ]
  },
  {
   "cell_type": "code",
   "execution_count": 6,
   "metadata": {},
   "outputs": [
    {
     "name": "stderr",
     "output_type": "stream",
     "text": [
      "/jet/home/sprice/AMPIS/ampis/applications/powder.py:82: RuntimeWarning: invalid value encountered in true_divide\n",
      "  intersects = RLE.area([RLE.merge([satellite_mask, pmask], intersect=True) for pmask in particles]) \\\n"
     ]
    }
   ],
   "source": [
    "iset_particles_pred_ss, iset_satellites_pred_ss = analyze.align_instance_sets(iset_particles_pred, iset_satellites_pred)\n",
    "psi_pred = []\n",
    "for pp, sp in zip(iset_particles_pred_ss, iset_satellites_pred_ss):\n",
    "    files = [Path(x).name for x in [pp.filepath, sp.filepath]]\n",
    "    assert all([x == files[0] for x in files])  # the files are in the same order and there are no excess files\n",
    "    psi_pred.append(powder.PowderSatelliteImage(particles=pp, satellites=sp))\n",
    "for i in range(len(psi_pred)):\n",
    "    try:\n",
    "        psi_pred[i].compute_matches()\n",
    "    except:\n",
    "        print(i)"
   ]
  },
  {
   "cell_type": "markdown",
   "metadata": {},
   "source": [
    "# Computing Powder Characteristics\n",
    "This takes all of the satellite and particle mask data and computes mean statistics. "
   ]
  },
  {
   "cell_type": "code",
   "execution_count": 7,
   "metadata": {},
   "outputs": [
    {
     "name": "stdout",
     "output_type": "stream",
     "text": [
      "\n"
     ]
    }
   ],
   "source": [
    "'''data = {'mean_sat_eccentricty': [], 'mean_sat_area': [], 'mean_sat_perimeter': [],\n",
    "        'mean_par_eccentricty': [], 'mean_par_area': [], 'mean_par_perimeter': []}\n",
    "        \n",
    "for i in range(len(psi_pred)):\n",
    "    data['mean_sat_eccentricty'].append(float(\"{0:.4f}\".format(psi_pred[i].satellites.rprops.eccentricity.mean()[0])))\n",
    "    data['mean_sat_area'].append(float(\"{0:.4f}\".format(psi_pred[i].satellites.rprops.area.mean()[0])))\n",
    "    data['mean_sat_perimeter'].append(float(\"{0:.4f}\".format(psi_pred[i].satellites.rprops.perimeter.mean()[0])))\n",
    "    data['mean_par_eccentricty'].append(float(\"{0:.4f}\".format(psi_pred[i].particles.rprops.eccentricity.mean()[0])))\n",
    "    data['mean_par_area'].append(float(\"{0:.4f}\".format(psi_pred[i].particles.rprops.area.mean()[0])))\n",
    "    data['mean_par_perimeter'].append(float(\"{0:.4f}\".format(psi_pred[i].particles.rprops.perimeter.mean()[0])))\n",
    "print('Mean_Sat_Eccentricity ', data['mean_sat_eccentricty'], '\\nMean_sat_area: ', data['mean_sat_area'], '\\nMean_sat_perimeter: ', data['mean_sat_perimeter'])\n",
    "print('Mean_Par_Eccentricity ', data['mean_par_eccentricty'], '\\nMean_par_area: ', data['mean_par_area'], '\\nMean_par_perimeter: ', data['mean_par_perimeter'])\n",
    "'''\n",
    "print('')"
   ]
  },
  {
   "cell_type": "markdown",
   "metadata": {},
   "source": [
    "# Computing/Graphing Satellite Area Ratio Distributio"
   ]
  },
  {
   "cell_type": "code",
   "execution_count": 8,
   "metadata": {},
   "outputs": [],
   "source": [
    "sat_area_ratio = []\n",
    "outliers = []\n",
    "total_sat_area_ratio = []\n",
    "par_eccentricity = []\n",
    "sat_eccentricity = []\n",
    "for i in psi_pred:\n",
    "    for j in i.matches['match_pairs']:\n",
    "        sats_area = []\n",
    "        par_eccentricity.append(i.particles.rprops.iloc[j]['eccentricity'][0])\n",
    "        for k in i.matches['match_pairs'][j]:\n",
    "            sat_eccentricity.append(i.satellites.rprops.iloc[k]['eccentricity'][0])\n",
    "            if i.satellites.rprops.iloc[k]['area']/i.particles.rprops.iloc[j]['area'] < 2:\n",
    "                sat_area_ratio.append((i.satellites.rprops.iloc[k]['area']/i.particles.rprops.iloc[j]['area'])[0])\n",
    "                sats_area.append(i.satellites.rprops.iloc[k]['area'][0])\n",
    "            else:\n",
    "                outliers.append((i.satellites.rprops.iloc[k]['area']/i.particles.rprops.iloc[j]['area'])[0])\n",
    "        total_sat_area_ratio.append((sum(sats_area)/i.particles.rprops.iloc[j]['area'])[0])\n",
    "\n",
    "\n",
    "\n",
    "sat_area_average = (sum(sat_area_ratio)/len(sat_area_ratio))\n",
    "#sat_outlier_average = (sum(outliers)/len(outliers))[0]\n",
    "total_sat_area_average = (sum(total_sat_area_ratio)/len(total_sat_area_ratio))\n",
    "sat_eccentricity_average = (sum(sat_eccentricity)/len(sat_eccentricity))\n",
    "par_eccentricity_average = (sum(par_eccentricity)/len(par_eccentricity))"
   ]
  },
  {
   "cell_type": "code",
   "execution_count": 9,
   "metadata": {
    "scrolled": false
   },
   "outputs": [
    {
     "data": {
      "image/png": "[encoded data removed]",
      "text/plain": [
       "<Figure size 432x288 with 1 Axes>"
      ]
     },
     "metadata": {
      "needs_background": "light"
     },
     "output_type": "display_data"
    },
    {
     "data": {
      "image/png": "[encoded data removed]",
      "text/plain": [
       "<Figure size 432x288 with 1 Axes>"
      ]
     },
     "metadata": {
      "needs_background": "light"
     },
     "output_type": "display_data"
    },
    {
     "data": {
      "image/png": "[encoded data removed]",
      "text/plain": [
       "<Figure size 432x288 with 1 Axes>"
      ]
     },
     "metadata": {
      "needs_background": "light"
     },
     "output_type": "display_data"
    },
    {
     "data": {
      "image/png": "[encoded data removed]",
      "text/plain": [
       "<Figure size 432x288 with 1 Axes>"
      ]
     },
     "metadata": {
      "needs_background": "light"
     },
     "output_type": "display_data"
    }
   ],
   "source": [
    "powder_char.generate_histogram(powder_char.sort_and_clean(sat_area_ratio), 150, 'Satellite Area Ratios', 'Sat Area/Par Area', 'Occurrences')\n",
    "powder_char.generate_histogram(powder_char.sort_and_clean(total_sat_area_ratio), 150, 'Total Satellite Area Ratios', 'Total Sat Area/Par Area', 'Occurrences')\n",
    "powder_char.generate_histogram(powder_char.sort_and_clean(sat_eccentricity), 150, 'Satellite Eccentricity', 'Eccentricty', 'Occurrences')\n",
    "powder_char.generate_histogram(powder_char.sort_and_clean(par_eccentricity), 150, 'Particle Eccentricity', 'Eccentricty', 'Occurrences')"
   ]
  },
  {
   "cell_type": "markdown",
   "metadata": {},
   "source": [
    "The matches for psi are stored in psi.matches as a dictionary. The key 'match_pairs' returns a dictionary whose keys are indices of particle masks that contain satellites. The value corresponding to each key is a list of indices of satellite masks that matched (note that multiple satellites can match with a single particle.)"
   ]
  },
  {
   "cell_type": "markdown",
   "metadata": {},
   "source": [
    "To compute the ratio of satellited particles, we can get the total number of "
   ]
  },
  {
   "cell_type": "markdown",
   "metadata": {},
   "source": [
    "## Final satellite measurements\n",
    "\n",
    "The number of satellites in each set, fraction of satellited particles, and some other information can be displayed with one command.\n",
    "The results can be printed directly, and are also returned"
   ]
  },
  {
   "cell_type": "code",
   "execution_count": 32,
   "metadata": {},
   "outputs": [
    {
     "name": "stdout",
     "output_type": "stream",
     "text": [
      "predicted results\n",
      "number of images                   \t33\n",
      "number of particles                \t3905\n",
      "number of matched satellites       \t2429\n",
      "number of unmatched satellites     \t439\n",
      "number of satellited particles     \t1465\n",
      "fraction of satellited particles   \t0.37516005121638923\n",
      "median number of satellites per\n",
      "satellited particle             \t1.0\n",
      "Mean Satellite Area Ratio: \t\t 0.13272852865833418\n",
      "Mean Total Satellite Area Ratio: \t 0.2200666185058657\n",
      "Mean Sat_Eccentricity(Sphericalness): \t 0.5967209764764511\n",
      "Mean Par_Eccentricity(Sphericalness): \t 0.5534526666185682\n"
     ]
    }
   ],
   "source": [
    "print('predicted results')\n",
    "results_pred = powder.satellite_measurements(psi_pred, True, True)\n",
    "print('Mean Satellite Area Ratio: \\t\\t', sat_area_average)\n",
    "#print('Mean of Satellite Area Ratios \\ngreater than 1 (outlier):\\t\\t', len(outliers))\n",
    "print('Mean Total Satellite Area Ratio: \\t', total_sat_area_average)\n",
    "print('Mean Sat_Eccentricity(Sphericalness): \\t', sat_eccentricity_average)\n",
    "print('Mean Par_Eccentricity(Sphericalness): \\t', par_eccentricity_average)"
   ]
  },
  {
   "cell_type": "markdown",
   "metadata": {},
   "source": [
    "The results are (optionally) returned as a dictionary in case you need to store them for further analysis or post processing."
   ]
  },
  {
   "cell_type": "code",
   "execution_count": 22,
   "metadata": {},
   "outputs": [
    {
     "data": {
      "text/plain": [
       "{'n_images': 5,\n",
       " 'n_particles': 1360,\n",
       " 'n_satellites': 585,\n",
       " 'n_satellites_unmatched': 2,\n",
       " 'n_satellited_particels': 315,\n",
       " 'sat_frac': 0.23161764705882354,\n",
       " 'mspp': 1.0,\n",
       " 'unique_satellites_per_particle': array([ 1,  2,  3,  4,  5,  6,  7, 14]),\n",
       " 'counts_satellites_per_particle': array([0.53333333, 0.79047619, 0.9047619 , 0.96507937, 0.98095238,\n",
       "        0.99047619, 0.9968254 , 1.        ])}"
      ]
     },
     "execution_count": 22,
     "metadata": {},
     "output_type": "execute_result"
    }
   ],
   "source": [
    "results_gt"
   ]
  }
 ],
 "metadata": {
  "kernelspec": {
   "display_name": "Python 3",
   "language": "python",
   "name": "python3"
  },
  "language_info": {
   "codemirror_mode": {
    "name": "ipython",
    "version": 3
   },
   "file_extension": ".py",
   "mimetype": "text/x-python",
   "name": "python",
   "nbconvert_exporter": "python",
   "pygments_lexer": "ipython3",
   "version": "3.8.5"
  }
 },
 "nbformat": 4,
 "nbformat_minor": 4
}
