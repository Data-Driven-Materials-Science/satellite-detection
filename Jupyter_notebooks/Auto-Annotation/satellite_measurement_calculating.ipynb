{
 "cells": [
  {
   "cell_type": "markdown",
   "metadata": {},
   "source": [
    "Copyright (c) 2020 Ryan Cohn and Elizabeth Holm. All rights reserved. <br />\n",
    "Licensed under the MIT License (see LICENSE for details) <br />\n",
    "Written by Ryan Cohn"
   ]
  },
  {
   "cell_type": "markdown",
   "metadata": {},
   "source": [
    "# Instance segmentation performance evaluation and sample characterization\n",
    "\n",
    "In this example we will do the following:\n",
    "\n",
    "  * Evaluate how well the predicted masks agree with the hand-drawn annotations\n",
    "  * Perform basic sample measurements (ie particle size)\n",
    "  * Match satellites to particles to measure the satellite content of samples\n",
    " \n",
    " \n",
    "## Note: \n",
    "We lump the predictions on training images with the validation images. This is because our available data so far is very limited, so we just \n",
    "want to show the process for analyzing the results. The process is exactly the same for analyzing larger quantities of data, so after generating predictions\n",
    "you can replace the filepath with more validation or even unlabeled images to get a better representation of the performance of the model."
   ]
  },
  {
   "cell_type": "code",
   "execution_count": 1,
   "metadata": {},
   "outputs": [],
   "source": [
    "import json\n",
    "import matplotlib.pyplot as plt\n",
    "import numpy as np\n",
    "import os\n",
    "from pathlib import Path\n",
    "import pandas as pd\n",
    "import pickle\n",
    "import pycocotools.mask as RLE\n",
    "import seaborn as sns\n",
    "import skimage\n",
    "import skimage.io\n",
    "from IPython.display import display\n",
    "from math import pi\n",
    "\n",
    "ampis_root = str(Path('..','..','..'))\n",
    "import sys\n",
    "if ampis_root not in sys.path:\n",
    "    sys.path.append(ampis_root)\n",
    "\n",
    "from ampis import analyze, data_utils, powder_char\n",
    "from ampis.applications import powder\n",
    "from ampis.structures import InstanceSet\n",
    "from ampis.visualize import display_iset\n",
    "from ampis import export_anno\n",
    "from imantics import Polygons, Mask\n",
    "#import warnings\n",
    "#warnings.filterwarnings('error')\n",
    "\n",
    "%matplotlib inline"
   ]
  },
  {
   "cell_type": "markdown",
   "metadata": {},
   "source": [
    "# Loading Data\n",
    "For evaluating the segmentation performance, we need to load back the original ground truth labels."
   ]
  },
  {
   "cell_type": "markdown",
   "metadata": {},
   "source": [
    "You can use your own predictions generated from before by replacing the paths, but as an example I am including mine from the fully trained model."
   ]
  },
  {
   "cell_type": "code",
   "execution_count": 2,
   "metadata": {},
   "outputs": [],
   "source": [
    "root = '../../'\n",
    "ocean_images = root + '../../../../ocean/projects/dmr200021p/sprice/initial_paper_complete_set/'\n",
    "sys.path.append(root)\n",
    "#Loading Ground Truth Labels\n",
    "satellites_gt_path = Path(ocean_images,'satellite_auto_training_v1.6.json')\n",
    "for path in [satellites_gt_path]:\n",
    "    assert path.is_file(), f'File not found : {path}'\n",
    "satellites_gt_dd = data_utils.get_ddicts('via2', satellites_gt_path, dataset_class='train')\n",
    "iset_satellites_gt = [InstanceSet().read_from_ddict(x, inplace=False) for x in satellites_gt_dd]"
   ]
  },
  {
   "cell_type": "markdown",
   "metadata": {},
   "source": [
    "### Currently not being used because of a problem with local/global variables and Instance Objects"
   ]
  },
  {
   "cell_type": "code",
   "execution_count": 3,
   "metadata": {
    "scrolled": true
   },
   "outputs": [],
   "source": [
    "def clean_pred_instance(pred, instance_num):\n",
    "    data_instance = pred\n",
    "    removed_index_list = []\n",
    "    for i in range(len(data_instance['instances'].pred_masks)):\n",
    "        #intermediary step to convert each RLE instance to a binary mask\n",
    "        m1 = RLE.decode(data_instance['instances'].pred_masks[i])[:, :]\n",
    "        m2 = Mask(m1).polygons().points\n",
    "        try:\n",
    "            num_points = len(export_anno.split_array(m2[0])[0])\n",
    "        except:\n",
    "            print(\"Error: No points found, deleting annotation\")\n",
    "            num_points = 0\n",
    "        if num_points < 4:\n",
    "            removed_index_list.append(i)\n",
    "    if len(removed_index_list) < 1:\n",
    "        print('No Removals Required for instance', instance_num)\n",
    "    else:\n",
    "        print(\"Had to remove\", len(removed_index_list), 'predicitons from the predicted detections on instance', instance_num)\n",
    "    for i in range(len(removed_index_list)):\n",
    "        data_instance['instances'].pred_masks.pop(removed_index_list[i]-i)\n",
    "        np.delete(data_instance['instances'].pred_boxes, removed_index_list[i]-i)\n",
    "        data_instance['instances'].num_instances -= 1\n",
    "    return data_instance\n",
    "\n",
    "        \n",
    "def clean_pred_pickle_masks(pred):\n",
    "    temp_pred = pred\n",
    "    #for i in range(len(pred)):\n",
    "    for i in range(10):\n",
    "        temp_pred[i]['pred'] = clean_pred_instance(pred[i]['pred'], i)\n",
    "    return temp_pred\n",
    "#print(satellites_pred)\n",
    "#satellites_pred = clean_pred_pickle_masks(satellites_pred)\n",
    "#particle_pred = clean_pred_pickle_masks(particle_pred)"
   ]
  },
  {
   "cell_type": "markdown",
   "metadata": {},
   "source": [
    "## Load data to InstanceSet objects\n",
    "To standardize the format of the ground truth and predicted instances, and for convenient analysis, everything is loaded into an InstanceSet class object."
   ]
  },
  {
   "cell_type": "markdown",
   "metadata": {},
   "source": [
    "# Powder Characterization- Size Distribution\n",
    "\n",
    "Once we have the masks it is pretty trivial to compute various properties. With binary masks we can use [skimage regionprops] (https://scikit-image.org/docs/dev/api/skimage.measure.html#skimage.measure.regionprops), which provides many convenient measurements out of the box. If there are any additional measurements you need, you can also access the masks directly and define your own methods. "
   ]
  },
  {
   "cell_type": "code",
   "execution_count": 4,
   "metadata": {},
   "outputs": [],
   "source": [
    "k = ['area', 'equivalent_diameter', 'major_axis_length', 'minor_axis_length', 'perimeter', 'eccentricity']\n",
    "for iset in iset_satellites_gt:\n",
    "    if iset.rprops is None:\n",
    "        iset.compute_rprops(keys=k)\n"
   ]
  },
  {
   "cell_type": "markdown",
   "metadata": {},
   "source": [
    "## Powder Characterization Dataframes\n",
    "If you wish to see the dataframes for all the images loaded in, uncomment the lines below"
   ]
  },
  {
   "cell_type": "code",
   "execution_count": 11,
   "metadata": {
    "scrolled": true
   },
   "outputs": [
    {
     "data": {
      "image/png": "[encoded data removed]",
      "text/plain": [
       "<Figure size 432x288 with 1 Axes>"
      ]
     },
     "metadata": {
      "needs_background": "light"
     },
     "output_type": "display_data"
    },
    {
     "name": "stdout",
     "output_type": "stream",
     "text": [
      "\n"
     ]
    }
   ],
   "source": [
    "satellite_areas = []\n",
    "for i in range(len(iset_satellites_gt)):\n",
    "    for j in iset_satellites_gt[i].rprops['area']:\n",
    "        satellite_areas.append(j[0])\n",
    "satellite_areas.sort()\n",
    "#print(satellite_areas)\n",
    "powder_char.generate_histogram(powder_char.sort_and_clean(satellite_areas), 75, 'Satellite Area Distribution', 'Satellite Area (Total Enompassed Pixels)', 'Occurrences')\n",
    "#lt.hist(satellite_areas, 1000)\n",
    "print('')"
   ]
  }
 ],
 "metadata": {
  "kernelspec": {
   "display_name": "Python 3",
   "language": "python",
   "name": "python3"
  },
  "language_info": {
   "codemirror_mode": {
    "name": "ipython",
    "version": 3
   },
   "file_extension": ".py",
   "mimetype": "text/x-python",
   "name": "python",
   "nbconvert_exporter": "python",
   "pygments_lexer": "ipython3",
   "version": "3.8.5"
  }
 },
 "nbformat": 4,
 "nbformat_minor": 4
}
